{
 "cells": [
  {
   "cell_type": "code",
   "execution_count": 16,
   "metadata": {
    "id": "xLjz5cJ9Vdw5"
   },
   "outputs": [],
   "source": [
    "import sys\n",
    "import functools\n",
    "import numpy as np\n",
    "import tensorflow as tf\n",
    "import pandas as pd\n",
    "import tensorflow.keras as keras\n",
    "\n"
   ]
  },
  {
   "cell_type": "code",
   "execution_count": 17,
   "metadata": {
    "id": "U_a7YnyAVzki"
   },
   "outputs": [],
   "source": [
    "def build_model(layers, neurons_in_layer, activation = 'relu', optimizer = tf.keras.optimizers.RMSprop(0.0001)):\n",
    "    model = keras.Sequential()\n",
    "    #model.add(keras.layers.Input(shape=(len(train_dataset.keys()),)))\n",
    "    model.add(keras.layers.Dense(neurons_in_layer, activation=activation, input_shape=(len(train_dataset.keys()),)))\n",
    "    for i in range(1, layers):\n",
    "        model.add(keras.layers.Dense(neurons_in_layer, activation=activation))\n",
    "        model.add(keras.layers.Dropout(0.6))\n",
    "    model.add(keras.layers.Dense(1))\n",
    "    model.compile(loss='mse', optimizer=optimizer, metrics=['mae', 'mse'])\n",
    "    return model\n",
    "\n",
    "'''def get_dataset(file_path, **kwargs):\n",
    "    dataset = tf.data.experimental.make_csv_dataset(\n",
    "        file_path,\n",
    "        batch_size=128,\n",
    "        label_name=LABEL_COLUMN,\n",
    "        na_value=\"?\",\n",
    "        num_epochs=1,\n",
    "        ignore_errors=True, \n",
    "        **kwargs)\n",
    "    return dataset'''\n",
    "\n",
    "def norm(x):\n",
    "  return (x - mean) / std"
   ]
  },
  {
   "cell_type": "code",
   "execution_count": 18,
   "metadata": {
    "colab": {
     "base_uri": "https://localhost:8080/"
    },
    "id": "XG9tOs4xVtPn",
    "outputId": "5d97bcd9-0b6c-450d-d0ab-7179e0a68699"
   },
   "outputs": [
    {
     "name": "stdout",
     "output_type": "stream",
     "text": [
      "0       0.2\n",
      "1       0.2\n",
      "2       0.1\n",
      "3       0.1\n",
      "4       0.0\n",
      "       ... \n",
      "7706    0.1\n",
      "7707    0.2\n",
      "7708    0.2\n",
      "7709    0.2\n",
      "7710    0.2\n",
      "Name: R, Length: 7711, dtype: float32\n",
      "R      0.100052\n",
      "x      2.663986\n",
      "y      2.676955\n",
      "T    270.269745\n",
      "L      0.000010\n",
      "Name: mean, dtype: float32\n"
     ]
    }
   ],
   "source": [
    "seed = int(42)\n",
    "\n",
    "FLOAT = np.float32\n",
    "LABEL_COLUMN = 'kappa'\n",
    "SELECT_COLUMNS = ['R','x','y','T','L','kappa']\n",
    "DEFAULTS = [0.0, 0.0, 0.0, 0.0, 0.0, 0.0]\n",
    "TRAIN = 0.6\n",
    "VALIDATE = 0.2\n",
    "EPOCHS = 10000\n",
    "SAMPLING_RANDOM_SEED = seed#4\n",
    "EARLY_STOP_PATIENCE = 15\n",
    "assert(TRAIN + VALIDATE <= 1.0)\n",
    "\n",
    "\n",
    "\n",
    "#dataset = pd.read_csv(\"kappa.csv\", names=SELECT_COLUMNS, na_values = \"?\", comment='\\t', sep=\",\", header = 0, skipinitialspace=True, dtype={'R':FLOAT, 'x':FLOAT, 'y':FLOAT, 'T':FLOAT, 'L':FLOAT, 'kappa':FLOAT}).sample(frac=1, random_state=0).reset_index(drop=True)\n",
    "\n",
    "dataset = pd.read_csv(\"staff_kappa.csv\", dtype={'R':FLOAT, 'x':FLOAT, 'y':FLOAT, 'T':FLOAT, 'L':FLOAT, 'kappa':FLOAT, 'kappa_bulk':FLOAT}).sample(frac=1, random_state=SAMPLING_RANDOM_SEED).reset_index(drop=True)\n",
    "\n",
    "del dataset['kappa_bulk']\n",
    "total_len = len(dataset.index)\n",
    "train_validate_len = int(total_len * (TRAIN + VALIDATE))\n",
    "test_len = total_len - train_validate_len\n",
    "\n",
    "train_dataset = dataset.head(train_validate_len)\n",
    "test_dataset = dataset.tail(test_len)\n",
    "\n",
    "train_stats = train_dataset.describe()\n",
    "train_stats.pop(\"kappa\")\n",
    "train_stats = train_stats.transpose()\n",
    "\n",
    "train_labels = train_dataset.pop('kappa')\n",
    "test_labels = test_dataset.pop('kappa')\n",
    "\n",
    "print(train_dataset['R'])\n",
    "mean = train_stats['mean'].astype(FLOAT)\n",
    "std = train_stats['std'].astype(FLOAT)\n",
    "print(mean)\n",
    "\n",
    "\n",
    "normed_train_data = norm(train_dataset)\n",
    "normed_test_data = norm(test_dataset)\n",
    "\n",
    "\n",
    "\n"
   ]
  },
  {
   "cell_type": "code",
   "execution_count": null,
   "metadata": {
    "colab": {
     "base_uri": "https://localhost:8080/"
    },
    "id": "6Q8LL4FaVtTd",
    "outputId": "6322b17d-19f8-4062-989a-e1d4b5bb2145"
   },
   "outputs": [
    {
     "name": "stdout",
     "output_type": "stream",
     "text": [
      "Model: \"sequential_4\"\n",
      "_________________________________________________________________\n",
      "Layer (type)                 Output Shape              Param #   \n",
      "=================================================================\n",
      "dense_12 (Dense)             (None, 6)                 36        \n",
      "_________________________________________________________________\n",
      "dense_13 (Dense)             (None, 6)                 42        \n",
      "_________________________________________________________________\n",
      "dropout_4 (Dropout)          (None, 6)                 0         \n",
      "_________________________________________________________________\n",
      "dense_14 (Dense)             (None, 1)                 7         \n",
      "=================================================================\n",
      "Total params: 85\n",
      "Trainable params: 85\n",
      "Non-trainable params: 0\n",
      "_________________________________________________________________\n",
      "None\n",
      "In progress...\n",
      "Evaluation passed\n",
      "Model: \"sequential_5\"\n",
      "_________________________________________________________________\n",
      "Layer (type)                 Output Shape              Param #   \n",
      "=================================================================\n",
      "dense_15 (Dense)             (None, 6)                 36        \n",
      "_________________________________________________________________\n",
      "dense_16 (Dense)             (None, 6)                 42        \n",
      "_________________________________________________________________\n",
      "dropout_5 (Dropout)          (None, 6)                 0         \n",
      "_________________________________________________________________\n",
      "dense_17 (Dense)             (None, 1)                 7         \n",
      "=================================================================\n",
      "Total params: 85\n",
      "Trainable params: 85\n",
      "Non-trainable params: 0\n",
      "_________________________________________________________________\n",
      "None\n",
      "In progress...\n"
     ]
    }
   ],
   "source": [
    "for nn in [6, 8, 10, 12, 14, 16, 18, 20]:\n",
    "    for l in [2, 3, 4, 5]:\n",
    "        for a in ['relu', 'sigmoid', 'tanh']:\n",
    "            model = build_model(l, nn, activation=a)\n",
    "            name = 'model_%s_%d_%d' % (a, l, nn,)\n",
    "            print(model.summary())\n",
    "            print(\"In progress...\")\n",
    "\n",
    "            early_stop = keras.callbacks.EarlyStopping(monitor='val_loss', patience=EARLY_STOP_PATIENCE)\n",
    "\n",
    "            history = model.fit(\n",
    "                normed_train_data, train_labels,\n",
    "                batch_size=32,\n",
    "                epochs=EPOCHS, validation_split=VALIDATE, verbose=0,\n",
    "                callbacks=[early_stop])\n",
    "            print(\"Evaluation passed\")\n",
    "\n",
    "            loss, mae, mse = model.evaluate(normed_test_data, test_labels, verbose=0)\n",
    "            with open('models.csv', 'a') as modelsf:\n",
    "                modelsf.write('\"%s_%d\",%g,%g\\n' % (name, seed, mae, mse,))\n",
    "            model.save('models/%s_%d.h5' % (name,seed))"
   ]
  }
 ],
 "metadata": {
  "colab": {
   "collapsed_sections": [],
   "name": "crystalipynb",
   "provenance": []
  },
  "kernelspec": {
   "display_name": "Python 3",
   "language": "python",
   "name": "python3"
  },
  "language_info": {
   "codemirror_mode": {
    "name": "ipython",
    "version": 3
   },
   "file_extension": ".py",
   "mimetype": "text/x-python",
   "name": "python",
   "nbconvert_exporter": "python",
   "pygments_lexer": "ipython3",
   "version": "3.8.5"
  }
 },
 "nbformat": 4,
 "nbformat_minor": 1
}
