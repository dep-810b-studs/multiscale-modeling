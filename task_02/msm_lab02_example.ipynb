{
 "cells": [
  {
   "cell_type": "code",
   "execution_count": 1,
   "metadata": {},
   "outputs": [],
   "source": [
    "import os\n",
    "import shutil\n",
    "import urllib3\n",
    "from subprocess import Popen, PIPE, STDOUT\n",
    "from multiprocessing import Pool\n",
    "\n",
    "import numpy as np\n",
    "from matplotlib import pyplot as plt"
   ]
  },
  {
   "cell_type": "markdown",
   "metadata": {},
   "source": [
    "### 0. Класс с параметрами атома"
   ]
  },
  {
   "cell_type": "code",
   "execution_count": 2,
   "metadata": {},
   "outputs": [],
   "source": [
    "class Atom:\n",
    "    def __init__(self, z, lattice_a, pseudo, atomic_mass):\n",
    "        self.pseudo = pseudo\n",
    "        self.celldim = Atom._celldim(lattice_a)\n",
    "        self.z = z\n",
    "        self.atomic_mass = atomic_mass\n",
    "        \n",
    "    def __str__(self):\n",
    "        return f'Z={self.z}, celldim={self.celldim}, m={self.atomic_mass}, pseudo={self.pseudo}'\n",
    "        \n",
    "    def get_pseudo_file(self):\n",
    "        return self.pseudo\n",
    "    \n",
    "    def get_celldim(self):\n",
    "        return self.celldim\n",
    "    \n",
    "    def get_atomic_mass(self):\n",
    "        return self.atomic_mass\n",
    "    \n",
    "    @staticmethod\n",
    "    def _celldim(x, a=52.9177):\n",
    "        # a - радиус Бора в пикометрах\n",
    "        return x / a"
   ]
  },
  {
   "cell_type": "code",
   "execution_count": 3,
   "metadata": {},
   "outputs": [],
   "source": [
    "def parse_output(output):\n",
    "    pattern = ['!', 'total', 'energy']\n",
    "    \n",
    "    for line in output.splitlines():\n",
    "        items = line.split()\n",
    "        if items[:3] == pattern:\n",
    "            return float(items[4])"
   ]
  },
  {
   "cell_type": "markdown",
   "metadata": {},
   "source": [
    "### 1. Конфигурация"
   ]
  },
  {
   "cell_type": "code",
   "execution_count": 4,
   "metadata": {},
   "outputs": [],
   "source": [
    "pseudo_url2atom = {\n",
    "    'C': 'https://www.quantum-espresso.org/upf_files/C.pbe-n-kjpaw_psl.1.0.0.UPF',\n",
    "    'Si': 'https://www.quantum-espresso.org/upf_files/Si.pbe-n-kjpaw_psl.1.0.0.UPF',\n",
    "    'Ge': 'https://www.quantum-espresso.org/upf_files/Ge.pbe-dn-kjpaw_psl.1.0.0.UPF',\n",
    "    'Sn': 'https://www.quantum-espresso.org/upf_files/Sn.pbe-dn-kjpaw_psl.1.0.0.UPF'\n",
    "}\n",
    "pseudo_dir = 'data/pseudo/pbe'\n",
    "output_dir = 'output'\n",
    "\n",
    "# \"а\" параметр решетки в пикометрах\n",
    "# Взял тут https://www.webelements.com/tin/crystal_structure.html\n",
    "lattice_a2atom = {\n",
    "    'C':  246.4,\n",
    "    'Si': 543.09,\n",
    "    'Ge': 565.75,\n",
    "    'Sn': 583.18,\n",
    "}\n",
    "\n",
    "# Атомный номер\n",
    "z2atom = {\n",
    "    'C':  6,\n",
    "    'Si': 14,\n",
    "    'Ge': 32,\n",
    "    'Sn': 50\n",
    "}\n",
    "\n",
    "atomic_mass = {\n",
    "    'C':  12.011,\n",
    "    'Si': 28.085,\n",
    "    'Ge': 72.630,\n",
    "    'Sn': 118.710\n",
    "}"
   ]
  },
  {
   "cell_type": "code",
   "execution_count": 5,
   "metadata": {},
   "outputs": [],
   "source": [
    "os.makedirs(pseudo_dir, exist_ok=True)\n",
    "os.makedirs(output_dir, exist_ok=True)"
   ]
  },
  {
   "cell_type": "code",
   "execution_count": 6,
   "metadata": {},
   "outputs": [],
   "source": [
    "http = urllib3.PoolManager()\n",
    "atoms = {}\n",
    "\n",
    "for atom_key, url_str in pseudo_url2atom.items():\n",
    "    url = urllib3.util.parse_url(url_str)\n",
    "    fname = url.path.split('/')[2]\n",
    "    path = os.path.join(pseudo_dir, fname)\n",
    "    \n",
    "    if not os.path.exists(path): \n",
    "        with http.request('GET', url_str, preload_content=False) as r, open(path, 'wb') as f:       \n",
    "            shutil.copyfileobj(r, f)\n",
    "        \n",
    "    atoms[atom_key] = Atom(z=z2atom[atom_key],\n",
    "                           pseudo=fname,\n",
    "                           lattice_a=lattice_a2atom[atom_key],\n",
    "                           atomic_mass=atomic_mass[atom_key])"
   ]
  },
  {
   "cell_type": "code",
   "execution_count": 7,
   "metadata": {},
   "outputs": [],
   "source": [
    "pwx_lattice_config = \"\"\"&control\n",
    "    prefix = '{0}',\n",
    "    pseudo_dir = '{1}',\n",
    "    outdir = '{2}',\n",
    "/\n",
    "&system\n",
    "! better lattice parametrization\n",
    "    ibrav = 2,\n",
    "    celldm(1) = {3},\n",
    "    ntyp = 1,\n",
    "    nat = 2,\n",
    "    ecutwfc = {4},\n",
    "    ecutrho = {5},\n",
    "/\n",
    "&electrons\n",
    "/\n",
    "ATOMIC_SPECIES\n",
    "    X {6} {7}\n",
    "ATOMIC_POSITIONS alat\n",
    "    X 0.00 0.00 0.00\n",
    "    X 0.25 0.25 0.25\n",
    "K_POINTS automatic\n",
    "    6 6 6 1 1 1\n",
    "\"\"\""
   ]
  },
  {
   "cell_type": "code",
   "execution_count": 8,
   "metadata": {},
   "outputs": [],
   "source": [
    "pwx_exe='pw'\n",
    "ecutwfc = 47\n",
    "ecutrho = 250\n",
    "sigma = 1e-2"
   ]
  },
  {
   "cell_type": "markdown",
   "metadata": {},
   "source": [
    "### 2. Расчет объемного модуля упругости B"
   ]
  },
  {
   "cell_type": "code",
   "execution_count": 9,
   "metadata": {},
   "outputs": [
    {
     "name": "stdout",
     "output_type": "stream",
     "text": [
      "Z=32, celldim=10.691129811008414, m=72.63, pseudo=Ge.pbe-dn-kjpaw_psl.1.0.0.UPF\n"
     ]
    }
   ],
   "source": [
    "atom = atoms['Ge']\n",
    "print(atom)"
   ]
  },
  {
   "cell_type": "code",
   "execution_count": 25,
   "metadata": {},
   "outputs": [],
   "source": [
    "def variate_celldm(undeformed_celldim):\n",
    "    compression_celldim = undeformed_celldim - undeformed_celldim * 1e-2\n",
    "    stretching_celldim = undeformed_celldim + undeformed_celldim * 1e-2\n",
    "    return (compression_celldim, stretching_celldim)\n",
    "\n",
    "def numerical_derivative(num, num_low, num_high, delta):\n",
    "    return (num_low - 2 * num + num_high) / (2 * (delta ** 2))\n",
    "\n",
    "def calc_gamma(num):\n",
    "    return ((num * 0.529) ** 3) / 8\n",
    "\n",
    "def calc_B(gamma, d2E):    \n",
    "    B = (1 / (9 * gamma)) * d2E * 1.602\n",
    "    return B\n",
    "\n",
    "def calc_C11(gamma, d2Ec11, d2Ec12):\n",
    "    C11 = (1 / (4 * gamma) * (d2Ec11 + d2Ec12))\n",
    "    return C11\n",
    "\n",
    "def calc_C12(gamma, d2Ec11, d2Ec12):\n",
    "    C12 = (1 / (4 * gamma) * (d2Ec11 - d2Ec12))\n",
    "    return C12\n",
    "\n",
    "def calc_C44(gamma, d2E):\n",
    "    C44 = (1 / gamma) * d2E\n",
    "    return C44"
   ]
  },
  {
   "cell_type": "code",
   "execution_count": 11,
   "metadata": {},
   "outputs": [],
   "source": [
    "undeformed_celldim = atom.get_celldim()\n",
    "compression_celldim, stretching_celldim = variate_celldm(undeformed_celldim)"
   ]
  },
  {
   "cell_type": "code",
   "execution_count": 12,
   "metadata": {},
   "outputs": [],
   "source": [
    "def calc_total_energy(celldim):\n",
    "    conf = pwx_lattice_config.format(f'lattice_{celldim}',\n",
    "                                    pseudo_dir,\n",
    "                                    output_dir,\n",
    "                                    celldim,\n",
    "                                    ecutwfc,\n",
    "                                    ecutrho,\n",
    "                                    atom.get_atomic_mass(),\n",
    "                                    atom.get_pseudo_file())\n",
    "    p = Popen([pwx_exe], stdout=PIPE, stdin=PIPE, stderr=STDOUT)\n",
    "    stdout, _ = p.communicate(input=conf.encode())\n",
    "    output = stdout.decode()\n",
    "    return parse_output(output)"
   ]
  },
  {
   "cell_type": "code",
   "execution_count": 13,
   "metadata": {},
   "outputs": [],
   "source": [
    "undeformed_celldim_energy = calc_total_energy(atom.get_celldim())\n",
    "compression_celldim_energy = calc_total_energy(compression_celldim)\n",
    "stretching_celldim_energy = calc_total_energy(stretching_celldim)\n",
    "\n",
    "gamma = calc_gamma(undeformed_celldim)\n",
    "d2E = numerical_derivative(undeformed_celldim_energy, compression_celldim_energy, stretching_celldim_energy, sigma) * 13.6\n",
    "B = calc_B(gamma, d2E) "
   ]
  },
  {
   "cell_type": "code",
   "execution_count": 30,
   "metadata": {},
   "outputs": [
    {
     "name": "stdout",
     "output_type": "stream",
     "text": [
      "B = 0.7509711810475209\n"
     ]
    }
   ],
   "source": [
    "print(f'B = {B}')"
   ]
  },
  {
   "cell_type": "markdown",
   "metadata": {},
   "source": [
    "### 3. Расчет константы эластичности С44"
   ]
  },
  {
   "cell_type": "code",
   "execution_count": 15,
   "metadata": {},
   "outputs": [],
   "source": [
    "def matrix_to_str(matrix):\n",
    "    res = ''\n",
    "    for row in np.asarray(matrix):\n",
    "        res+='    '\n",
    "        for column in row:\n",
    "            res+= f' {column}'\n",
    "        res+='\\n'\n",
    "    return res\n",
    "        \n",
    "sigma = 1e-2\n",
    "lattice = np.matrix([[0, 0.5, 0.5], [0.5, 0, 0.5], [0.5, 0.5, 0]])\n",
    "deformation_matrix_zero = np.matrix([[1, 0, 0], [0, 1, 0], [0, 0, 1]])\n",
    "deformation_matrix_negative = np.matrix([[1, 0, 0], [-1e-2, 1, 0], [0, 0, 1]])\n",
    "deformation_matrix_positive = np.matrix([[1, 0, 0], [1e-2, 1, 0], [0, 0, 1]])"
   ]
  },
  {
   "cell_type": "code",
   "execution_count": 16,
   "metadata": {},
   "outputs": [],
   "source": [
    "lattice_config = \"\"\"&control\n",
    "    prefix = '{0}',\n",
    "    pseudo_dir = '{1}',\n",
    "    outdir = '{2}',\n",
    "    calculation = 'relax',\n",
    "    etot_conv_thr = 1.d-5,\n",
    "    forc_conv_thr = 1.d-5,\n",
    "/\n",
    "&system\n",
    "! better lattice parametrization\n",
    "    ibrav = 0,\n",
    "    celldm(1) = {3},\n",
    "    ntyp = 1,\n",
    "    nat = 2,\n",
    "    ecutwfc = 100.0,\n",
    "/\n",
    "&electrons\n",
    "/\n",
    "&ions\n",
    "ion_dynamics = 'bfgs',\n",
    "/\n",
    "ATOMIC_SPECIES\n",
    "    X {4} {5}\n",
    "ATOMIC_POSITIONS alat\n",
    "    X 0.00 0.00 0.00\n",
    "    X 0.25 0.25 0.25\n",
    "K_POINTS automatic\n",
    "    6 6 6 1 1 1\n",
    "CELL_PARAMETERS alat\n",
    "{6}\"\"\""
   ]
  },
  {
   "cell_type": "code",
   "execution_count": 17,
   "metadata": {},
   "outputs": [],
   "source": [
    "def calc_energy(celldim, matrix):\n",
    "    conf = lattice_config.format(f'lattice_{celldim}',\n",
    "                                pseudo_dir,\n",
    "                                output_dir,\n",
    "                                celldim,\n",
    "                                atom.get_atomic_mass(),\n",
    "                                atom.get_pseudo_file(),\n",
    "                                matrix_to_str(matrix))\n",
    "    p = Popen([pwx_exe], stdout=PIPE, stdin=PIPE, stderr=STDOUT)\n",
    "    stdout, _ = p.communicate(input=conf.encode())\n",
    "    output = stdout.decode()\n",
    "    return parse_output(output)"
   ]
  },
  {
   "cell_type": "code",
   "execution_count": 18,
   "metadata": {},
   "outputs": [],
   "source": [
    "undeformed_celldim_energy = calc_energy(atom.get_celldim(), np.dot(lattice, deformation_matrix_zero))\n",
    "compression_celldim_energy = calc_energy(atom.get_celldim(), np.dot(lattice, deformation_matrix_negative))\n",
    "stretching_celldim_energy = calc_energy(atom.get_celldim(), np.dot(lattice, deformation_matrix_positive))"
   ]
  },
  {
   "cell_type": "code",
   "execution_count": 28,
   "metadata": {},
   "outputs": [
    {
     "name": "stdout",
     "output_type": "stream",
     "text": [
      "C44 = 0.0788016825584805\n"
     ]
    }
   ],
   "source": [
    "d2E = numerical_derivative(undeformed_celldim_energy, compression_celldim_energy, stretching_celldim_energy,sigma)\n",
    "C44 = calc_C44(gamma, d2E)\n",
    "\n",
    "print(f'C44 = {C44}')"
   ]
  },
  {
   "cell_type": "markdown",
   "metadata": {},
   "source": [
    "### 3. Расчет констант эластичности С11 и C12"
   ]
  },
  {
   "cell_type": "code",
   "execution_count": 22,
   "metadata": {},
   "outputs": [],
   "source": [
    "deformation_matrix_c11_negative = np.matrix([[1 - sigma, 0, 0], [0, 1 - sigma, 0], [0, 0, 1]])\n",
    "deformation_matrix_c11_positive = np.matrix([[1 + sigma, 0, 0], [0, 1 + sigma, 0], [0, 0, 1]])\n",
    "\n",
    "deformation_matrix_c12_negative = np.matrix([[1 - sigma, 0, 0], [0, 1 + sigma, 0], [0, 0, 1]])\n",
    "deformation_matrix_c12_positive = np.matrix([[1 + sigma, 0, 0], [0, 1 - sigma, 0], [0, 0, 1]])"
   ]
  },
  {
   "cell_type": "code",
   "execution_count": 23,
   "metadata": {},
   "outputs": [],
   "source": [
    "compression_celldim_c11_energy = calc_energy(atom.get_celldim(), np.dot(lattice, deformation_matrix_c11_negative))\n",
    "stretching_celldim_c11_energy = calc_energy(atom.get_celldim(), np.dot(lattice, deformation_matrix_c11_positive))\n",
    "\n",
    "compression_celldim_c12_energy = calc_energy(atom.get_celldim(), np.dot(lattice, deformation_matrix_c12_negative))\n",
    "stretching_celldim_c12_energy = calc_energy(atom.get_celldim(), np.dot(lattice, deformation_matrix_c12_positive))"
   ]
  },
  {
   "cell_type": "code",
   "execution_count": 27,
   "metadata": {},
   "outputs": [],
   "source": [
    "d2Ec11 = numerical_derivative(undeformed_celldim_energy, compression_celldim_c11_energy, stretching_celldim_c11_energy,sigma)\n",
    "d2Ec12 = numerical_derivative(undeformed_celldim_energy, compression_celldim_c12_energy, stretching_celldim_c12_energy,sigma)"
   ]
  },
  {
   "cell_type": "code",
   "execution_count": 26,
   "metadata": {},
   "outputs": [
    {
     "name": "stdout",
     "output_type": "stream",
     "text": [
      "C11 = 0.09525168303290511\n",
      "C12 = 0.02248870622449062\n"
     ]
    }
   ],
   "source": [
    "C11 = calc_C11(gamma, d2Ec11, d2Ec12)\n",
    "C12 = calc_C12(gamma, d2Ec11, d2Ec12)\n",
    "\n",
    "print(f'C11 = {C11}')\n",
    "print(f'C12 = {C12}')"
   ]
  }
 ],
 "metadata": {
  "kernelspec": {
   "display_name": "Python 3",
   "language": "python",
   "name": "python3"
  },
  "language_info": {
   "codemirror_mode": {
    "name": "ipython",
    "version": 3
   },
   "file_extension": ".py",
   "mimetype": "text/x-python",
   "name": "python",
   "nbconvert_exporter": "python",
   "pygments_lexer": "ipython3",
   "version": "3.7.5"
  }
 },
 "nbformat": 4,
 "nbformat_minor": 2
}
